{
 "cells": [
  {
   "cell_type": "code",
   "execution_count": 1,
   "metadata": {},
   "outputs": [
    {
     "name": "stdout",
     "output_type": "stream",
     "text": [
      "['params', 'x0', 'samples', 'time_steps', 'sols', 'dt', 'system_type']\n"
     ]
    }
   ],
   "source": [
    "import numpy as np\n",
    "import os\n",
    "\n",
    "dir_name = 'lotka_volterra'\n",
    "file_stem = 'lotkavolterra'  # 저장 시 이렇게 저장되었음\n",
    "\n",
    "def load_dataset(dir_name, file_stem=None):\n",
    "    if file_stem is None:\n",
    "        file_stem = dir_name.replace('_', '')  # 기본 룰 적용\n",
    "    path = os.path.join('..', 'generated', dir_name, f'{file_stem}_dataset.npz')\n",
    "    # Python 객체가 포함되어 있으므로 allow_pickle=True 필요\n",
    "    return np.load(path, allow_pickle=True)\n",
    "\n",
    "# 로드\n",
    "data = load_dataset(dir_name, file_stem)\n",
    "\n",
    "# 내용 확인\n",
    "print(data.files)  # 예: ['params', 'x0', 'samples', 'time_steps', 'sols', 'dt', 'system_type']\n",
    "\n",
    "# 예시 접근\n",
    "params = data['params']        # shape: (10000, param_dim)\n",
    "x0 = data['x0']                # shape: (10000, state_dim)\n",
    "samples = data['samples']      # shape: (10000, T, D)\n",
    "time_steps = data['time_steps']  # shape: (10000, T)\n",
    "sols = data['sols']            # 리스트 형태로 저장된 solve_ivp 객체들\n"
   ]
  },
  {
   "cell_type": "code",
   "execution_count": 2,
   "metadata": {},
   "outputs": [],
   "source": [
    "import numpy as np\n",
    "import pandas as pd\n",
    "def convert_npz_to_dataframe(npz_data):\n",
    "    \"\"\"\n",
    "    npz 데이터를 compact하게 sample 단위로 요약한 DataFrame을 생성합니다.\n",
    "    각 sample은 하나의 row로, \n",
    "      - 관측 시계열 ('samples')와 time grid ('time_steps')는 list로,\n",
    "      - 초기 조건 ('x0'), 파라미터 ('params'),\n",
    "      - 그리고 ground truth trajectory (solve_ivp 객체의 y.T, 'sols')가 저장됩니다.\n",
    "    \"\"\"\n",
    "    import pandas as pd\n",
    "    \n",
    "    params = npz_data['params']         # shape: (N, P)\n",
    "    x0 = npz_data['x0']                 # shape: (N, D)\n",
    "    samples = npz_data['samples']       # shape: (N, T, D)\n",
    "    time_steps = npz_data['time_steps'] # shape: (N, T)\n",
    "    sols = npz_data['sols']             # list of solve_ivp objects, 길이 N\n",
    "    \n",
    "    N, T, D = samples.shape\n",
    "    records = []\n",
    "    for i in range(N):\n",
    "        # true trajectory는 각 solve_ivp 객체의 y.T (shape: (T_full, D))를 리스트로 변환\n",
    "        try:\n",
    "            true_traj = sols[i].y.T.tolist()  \n",
    "        except Exception as e:\n",
    "            true_traj = None\n",
    "        \n",
    "        row = {\n",
    "            'sample_idx': i,\n",
    "            'x0': list(x0[i]),\n",
    "            'params': list(params[i]),\n",
    "            'times': list(time_steps[i]),\n",
    "            'true_trajectory': true_traj  # ground truth trajectory\n",
    "        }\n",
    "        # 각 상태 변수에 대한 관측 시계열 (noisy observations)\n",
    "        for d in range(D):\n",
    "            row[f'state_{d}'] = list(samples[i, :, d])\n",
    "        records.append(row)\n",
    "    \n",
    "    df = pd.DataFrame(records)\n",
    "    return df"
   ]
  },
  {
   "cell_type": "code",
   "execution_count": 3,
   "metadata": {},
   "outputs": [
    {
     "data": {
      "text/html": [
       "<div>\n",
       "<style scoped>\n",
       "    .dataframe tbody tr th:only-of-type {\n",
       "        vertical-align: middle;\n",
       "    }\n",
       "\n",
       "    .dataframe tbody tr th {\n",
       "        vertical-align: top;\n",
       "    }\n",
       "\n",
       "    .dataframe thead th {\n",
       "        text-align: right;\n",
       "    }\n",
       "</style>\n",
       "<table border=\"1\" class=\"dataframe\">\n",
       "  <thead>\n",
       "    <tr style=\"text-align: right;\">\n",
       "      <th></th>\n",
       "      <th>sample_idx</th>\n",
       "      <th>x0</th>\n",
       "      <th>params</th>\n",
       "      <th>times</th>\n",
       "      <th>true_trajectory</th>\n",
       "      <th>state_0</th>\n",
       "      <th>state_1</th>\n",
       "    </tr>\n",
       "  </thead>\n",
       "  <tbody>\n",
       "    <tr>\n",
       "      <th>0</th>\n",
       "      <td>0</td>\n",
       "      <td>[9.49816047538945, 5.901428612819832]</td>\n",
       "      <td>[1.092797576724562, 0.10394633936788146, 0.064...</td>\n",
       "      <td>[0.0, 1.4285714285714286, 2.857142857142857, 4...</td>\n",
       "      <td>[[9.49816047538945, 5.901428612819832], [9.984...</td>\n",
       "      <td>[9.81400303849093, 23.820310985254146, 38.1766...</td>\n",
       "      <td>[6.054915558650414, 3.9254945106096795, 15.330...</td>\n",
       "    </tr>\n",
       "    <tr>\n",
       "      <th>1</th>\n",
       "      <td>1</td>\n",
       "      <td>[8.798695128633439, 5.028468876827223]</td>\n",
       "      <td>[1.036965827544817, 0.08185801650879991, 0.065...</td>\n",
       "      <td>[0.0, 1.4285714285714286, 2.857142857142857, 4...</td>\n",
       "      <td>[[8.798695128633439, 5.028468876827223], [9.38...</td>\n",
       "      <td>[8.678567390649677, 26.859757077121937, 57.173...</td>\n",
       "      <td>[4.970130126868568, 2.7361512889073656, 18.912...</td>\n",
       "    </tr>\n",
       "    <tr>\n",
       "      <th>2</th>\n",
       "      <td>2</td>\n",
       "      <td>[9.554709158757928, 4.542698063547792]</td>\n",
       "      <td>[1.1314950036607718, 0.09427013306774357, 0.07...</td>\n",
       "      <td>[0.0, 1.4285714285714286, 2.857142857142857, 4...</td>\n",
       "      <td>[[9.554709158757928, 4.542698063547792], [10.2...</td>\n",
       "      <td>[9.619525952636888, 28.957527795169433, 23.387...</td>\n",
       "      <td>[4.4656816074645285, 4.469653296971071, 28.371...</td>\n",
       "    </tr>\n",
       "    <tr>\n",
       "      <th>3</th>\n",
       "      <td>3</td>\n",
       "      <td>[11.548850970305306, 4.944429850323899]</td>\n",
       "      <td>[0.8478376983753207, 0.1085297914889198, 0.076...</td>\n",
       "      <td>[0.0, 1.4285714285714286, 2.857142857142857, 4...</td>\n",
       "      <td>[[11.548850970305306, 4.944429850323899], [11....</td>\n",
       "      <td>[11.541685762483317, 22.448197486321202, 38.24...</td>\n",
       "      <td>[5.2573585814867005, 2.911255710608391, 8.8830...</td>\n",
       "    </tr>\n",
       "    <tr>\n",
       "      <th>4</th>\n",
       "      <td>4</td>\n",
       "      <td>[11.214688307596457, 4.3731401177720715]</td>\n",
       "      <td>[1.1570235993959912, 0.10157368967662603, 0.08...</td>\n",
       "      <td>[0.0, 1.4285714285714286, 2.857142857142857, 4...</td>\n",
       "      <td>[[11.214688307596457, 4.3731401177720715], [12...</td>\n",
       "      <td>[11.074277688820986, 33.87231650253858, 15.072...</td>\n",
       "      <td>[4.307607688452518, 4.835836669578541, 26.3914...</td>\n",
       "    </tr>\n",
       "    <tr>\n",
       "      <th>...</th>\n",
       "      <td>...</td>\n",
       "      <td>...</td>\n",
       "      <td>...</td>\n",
       "      <td>...</td>\n",
       "      <td>...</td>\n",
       "      <td>...</td>\n",
       "      <td>...</td>\n",
       "    </tr>\n",
       "    <tr>\n",
       "      <th>9995</th>\n",
       "      <td>9995</td>\n",
       "      <td>[9.06674222472362, 5.3645536793597985]</td>\n",
       "      <td>[0.9480434487307816, 0.08078143951745678, 0.08...</td>\n",
       "      <td>[0.0, 1.4285714285714286, 2.857142857142857, 4...</td>\n",
       "      <td>[[9.06674222472362, 5.3645536793597985], [9.56...</td>\n",
       "      <td>[9.060958052312612, 23.83030903981786, 39.8795...</td>\n",
       "      <td>[5.196456735516876, 2.5995442412260426, 19.755...</td>\n",
       "    </tr>\n",
       "    <tr>\n",
       "      <th>9996</th>\n",
       "      <td>9996</td>\n",
       "      <td>[10.686058521731491, 4.239487630890881]</td>\n",
       "      <td>[1.0278582369298326, 0.09260471597377619, 0.07...</td>\n",
       "      <td>[0.0, 1.4285714285714286, 2.857142857142857, 4...</td>\n",
       "      <td>[[10.686058521731491, 4.239487630890881], [11....</td>\n",
       "      <td>[10.811219441088685, 28.16398830048308, 22.769...</td>\n",
       "      <td>[4.462505947047643, 4.874626080613738, 24.3013...</td>\n",
       "    </tr>\n",
       "    <tr>\n",
       "      <th>9997</th>\n",
       "      <td>9997</td>\n",
       "      <td>[10.65100326033214, 5.273218015173407]</td>\n",
       "      <td>[0.838361935376518, 0.11046376636499679, 0.064...</td>\n",
       "      <td>[0.0, 1.4285714285714286, 2.857142857142857, 4...</td>\n",
       "      <td>[[10.65100326033214, 5.273218015173407], [10.9...</td>\n",
       "      <td>[10.61096153260883, 18.956532493649554, 32.991...</td>\n",
       "      <td>[5.4727168018515835, 3.663571098487103, 6.0885...</td>\n",
       "    </tr>\n",
       "    <tr>\n",
       "      <th>9998</th>\n",
       "      <td>9998</td>\n",
       "      <td>[11.919242342013689, 5.0723115827422385]</td>\n",
       "      <td>[1.0752165747222993, 0.08828518687956767, 0.07...</td>\n",
       "      <td>[0.0, 1.4285714285714286, 2.857142857142857, 4...</td>\n",
       "      <td>[[11.919242342013689, 5.0723115827422385], [12...</td>\n",
       "      <td>[11.653639391931149, 29.769390760639084, 19.65...</td>\n",
       "      <td>[5.072443068170984, 6.646510368944044, 25.6346...</td>\n",
       "    </tr>\n",
       "    <tr>\n",
       "      <th>9999</th>\n",
       "      <td>9999</td>\n",
       "      <td>[9.883765552345709, 4.8896887268186715]</td>\n",
       "      <td>[0.8534240918868667, 0.1059124069543546, 0.073...</td>\n",
       "      <td>[0.0, 1.4285714285714286, 2.857142857142857, 4...</td>\n",
       "      <td>[[9.883765552345709, 4.8896887268186715], [10....</td>\n",
       "      <td>[10.529782125157654, 19.92201933791987, 35.297...</td>\n",
       "      <td>[4.552643662599465, 2.5393699376094943, 7.5868...</td>\n",
       "    </tr>\n",
       "  </tbody>\n",
       "</table>\n",
       "<p>10000 rows × 7 columns</p>\n",
       "</div>"
      ],
      "text/plain": [
       "      sample_idx                                        x0  \\\n",
       "0              0     [9.49816047538945, 5.901428612819832]   \n",
       "1              1    [8.798695128633439, 5.028468876827223]   \n",
       "2              2    [9.554709158757928, 4.542698063547792]   \n",
       "3              3   [11.548850970305306, 4.944429850323899]   \n",
       "4              4  [11.214688307596457, 4.3731401177720715]   \n",
       "...          ...                                       ...   \n",
       "9995        9995    [9.06674222472362, 5.3645536793597985]   \n",
       "9996        9996   [10.686058521731491, 4.239487630890881]   \n",
       "9997        9997    [10.65100326033214, 5.273218015173407]   \n",
       "9998        9998  [11.919242342013689, 5.0723115827422385]   \n",
       "9999        9999   [9.883765552345709, 4.8896887268186715]   \n",
       "\n",
       "                                                 params  \\\n",
       "0     [1.092797576724562, 0.10394633936788146, 0.064...   \n",
       "1     [1.036965827544817, 0.08185801650879991, 0.065...   \n",
       "2     [1.1314950036607718, 0.09427013306774357, 0.07...   \n",
       "3     [0.8478376983753207, 0.1085297914889198, 0.076...   \n",
       "4     [1.1570235993959912, 0.10157368967662603, 0.08...   \n",
       "...                                                 ...   \n",
       "9995  [0.9480434487307816, 0.08078143951745678, 0.08...   \n",
       "9996  [1.0278582369298326, 0.09260471597377619, 0.07...   \n",
       "9997  [0.838361935376518, 0.11046376636499679, 0.064...   \n",
       "9998  [1.0752165747222993, 0.08828518687956767, 0.07...   \n",
       "9999  [0.8534240918868667, 0.1059124069543546, 0.073...   \n",
       "\n",
       "                                                  times  \\\n",
       "0     [0.0, 1.4285714285714286, 2.857142857142857, 4...   \n",
       "1     [0.0, 1.4285714285714286, 2.857142857142857, 4...   \n",
       "2     [0.0, 1.4285714285714286, 2.857142857142857, 4...   \n",
       "3     [0.0, 1.4285714285714286, 2.857142857142857, 4...   \n",
       "4     [0.0, 1.4285714285714286, 2.857142857142857, 4...   \n",
       "...                                                 ...   \n",
       "9995  [0.0, 1.4285714285714286, 2.857142857142857, 4...   \n",
       "9996  [0.0, 1.4285714285714286, 2.857142857142857, 4...   \n",
       "9997  [0.0, 1.4285714285714286, 2.857142857142857, 4...   \n",
       "9998  [0.0, 1.4285714285714286, 2.857142857142857, 4...   \n",
       "9999  [0.0, 1.4285714285714286, 2.857142857142857, 4...   \n",
       "\n",
       "                                        true_trajectory  \\\n",
       "0     [[9.49816047538945, 5.901428612819832], [9.984...   \n",
       "1     [[8.798695128633439, 5.028468876827223], [9.38...   \n",
       "2     [[9.554709158757928, 4.542698063547792], [10.2...   \n",
       "3     [[11.548850970305306, 4.944429850323899], [11....   \n",
       "4     [[11.214688307596457, 4.3731401177720715], [12...   \n",
       "...                                                 ...   \n",
       "9995  [[9.06674222472362, 5.3645536793597985], [9.56...   \n",
       "9996  [[10.686058521731491, 4.239487630890881], [11....   \n",
       "9997  [[10.65100326033214, 5.273218015173407], [10.9...   \n",
       "9998  [[11.919242342013689, 5.0723115827422385], [12...   \n",
       "9999  [[9.883765552345709, 4.8896887268186715], [10....   \n",
       "\n",
       "                                                state_0  \\\n",
       "0     [9.81400303849093, 23.820310985254146, 38.1766...   \n",
       "1     [8.678567390649677, 26.859757077121937, 57.173...   \n",
       "2     [9.619525952636888, 28.957527795169433, 23.387...   \n",
       "3     [11.541685762483317, 22.448197486321202, 38.24...   \n",
       "4     [11.074277688820986, 33.87231650253858, 15.072...   \n",
       "...                                                 ...   \n",
       "9995  [9.060958052312612, 23.83030903981786, 39.8795...   \n",
       "9996  [10.811219441088685, 28.16398830048308, 22.769...   \n",
       "9997  [10.61096153260883, 18.956532493649554, 32.991...   \n",
       "9998  [11.653639391931149, 29.769390760639084, 19.65...   \n",
       "9999  [10.529782125157654, 19.92201933791987, 35.297...   \n",
       "\n",
       "                                                state_1  \n",
       "0     [6.054915558650414, 3.9254945106096795, 15.330...  \n",
       "1     [4.970130126868568, 2.7361512889073656, 18.912...  \n",
       "2     [4.4656816074645285, 4.469653296971071, 28.371...  \n",
       "3     [5.2573585814867005, 2.911255710608391, 8.8830...  \n",
       "4     [4.307607688452518, 4.835836669578541, 26.3914...  \n",
       "...                                                 ...  \n",
       "9995  [5.196456735516876, 2.5995442412260426, 19.755...  \n",
       "9996  [4.462505947047643, 4.874626080613738, 24.3013...  \n",
       "9997  [5.4727168018515835, 3.663571098487103, 6.0885...  \n",
       "9998  [5.072443068170984, 6.646510368944044, 25.6346...  \n",
       "9999  [4.552643662599465, 2.5393699376094943, 7.5868...  \n",
       "\n",
       "[10000 rows x 7 columns]"
      ]
     },
     "execution_count": 3,
     "metadata": {},
     "output_type": "execute_result"
    }
   ],
   "source": [
    "df = convert_npz_to_dataframe(data)\n",
    "\n",
    "df"
   ]
  },
  {
   "cell_type": "code",
   "execution_count": 4,
   "metadata": {},
   "outputs": [],
   "source": [
    "def split_dataframe(df, train_ratio=0.7, val_ratio=0.15, test_ratio=0.15, seed=None):\n",
    "    \"\"\"\n",
    "    각 sample이 row인 DataFrame을 train, validation, test set으로 분할합니다.\n",
    "    이 DataFrame은 관측 시계열, 실제(ground truth) trajectory, 초기조건, 파라미터 등의 정보를 포함합니다.\n",
    "    \n",
    "    Args:\n",
    "        df (pd.DataFrame): 전체 데이터셋 (각 row가 하나의 sample)\n",
    "        train_ratio (float): 학습 데이터 비율\n",
    "        val_ratio (float): 검증 데이터 비율\n",
    "        test_ratio (float): 테스트 데이터 비율\n",
    "        seed (int, optional): 랜덤 시드\n",
    "        \n",
    "    Returns:\n",
    "        tuple: (train_df, val_df, test_df)\n",
    "    \"\"\"\n",
    "    import pandas as pd\n",
    "    assert abs(train_ratio + val_ratio + test_ratio - 1.0) < 1e-9, \"비율의 합은 1이어야 합니다\"\n",
    "    \n",
    "    if seed is not None:\n",
    "        df_shuffled = df.sample(frac=1, random_state=seed).reset_index(drop=True)\n",
    "    else:\n",
    "        df_shuffled = df.sample(frac=1).reset_index(drop=True)\n",
    "    \n",
    "    n = len(df_shuffled)\n",
    "    train_end = int(train_ratio * n)\n",
    "    val_end = train_end + int(val_ratio * n)\n",
    "    \n",
    "    train_df = df_shuffled.iloc[:train_end].reset_index(drop=True)\n",
    "    val_df = df_shuffled.iloc[train_end:val_end].reset_index(drop=True)\n",
    "    test_df = df_shuffled.iloc[val_end:].reset_index(drop=True)\n",
    "    \n",
    "    return train_df, val_df, test_df\n"
   ]
  },
  {
   "cell_type": "code",
   "execution_count": 5,
   "metadata": {},
   "outputs": [],
   "source": [
    "train_df, val_df, test_df = split_dataframe(df, seed=42)"
   ]
  },
  {
   "cell_type": "code",
   "execution_count": 6,
   "metadata": {},
   "outputs": [],
   "source": [
    "def extract_timeseries_and_params(df):\n",
    "    \"\"\"\n",
    "    compact dataframe에서 (시계열, 파라미터) 쌍 리스트 추출\n",
    "    Returns:\n",
    "        List[Tuple[np.ndarray, np.ndarray]]\n",
    "    \"\"\"\n",
    "    data = []\n",
    "    for _, row in df.iterrows():\n",
    "        # 하나의 시계열: 모든 state 차원을 하나로 concat → shape (T, D)\n",
    "        states = np.stack([row[f'state_{d}'] for d in range(len(row['x0']))], axis=1)\n",
    "        params = np.array(row['params'])  # shape: (param_dim,)\n",
    "        data.append((states, params))\n",
    "    return data"
   ]
  },
  {
   "cell_type": "code",
   "execution_count": 7,
   "metadata": {},
   "outputs": [],
   "source": [
    "train_data = extract_timeseries_and_params(train_df)\n",
    "val_data = extract_timeseries_and_params(val_df)\n",
    "test_data = extract_timeseries_and_params(test_df)"
   ]
  },
  {
   "cell_type": "code",
   "execution_count": 8,
   "metadata": {},
   "outputs": [],
   "source": [
    "import torch\n",
    "from torch.utils.data import Dataset\n",
    "from torch.utils.data import DataLoader\n",
    "\n",
    "class TimeseriesParamDataset(Dataset):\n",
    "    def __init__(self, data):\n",
    "        \"\"\"\n",
    "        data: List of tuples (timeseries, params)\n",
    "            - timeseries: numpy array of shape (T, D)\n",
    "            - params: numpy array of shape (param_dim,)\n",
    "        \"\"\"\n",
    "        self.data = data\n",
    "\n",
    "    def __len__(self):\n",
    "        return len(self.data)\n",
    "\n",
    "    def __getitem__(self, idx):\n",
    "        timeseries, params = self.data[idx]\n",
    "        return {\n",
    "            'timeseries': torch.tensor(timeseries, dtype=torch.float32),\n",
    "            'params': torch.tensor(params, dtype=torch.float32)\n",
    "        }\n",
    "\n",
    "\n",
    "def create_dataloaders(train_data, val_data, test_data, batch_size=64, shuffle=True):\n",
    "    train_dataset = TimeseriesParamDataset(train_data)\n",
    "    val_dataset = TimeseriesParamDataset(val_data)\n",
    "    test_dataset = TimeseriesParamDataset(test_data)\n",
    "\n",
    "    train_loader = DataLoader(train_dataset, batch_size=batch_size, shuffle=shuffle)\n",
    "    val_loader = DataLoader(val_dataset, batch_size=batch_size, shuffle=False)\n",
    "    test_loader = DataLoader(test_dataset, batch_size=batch_size, shuffle=False)\n",
    "\n",
    "    return train_loader, val_loader, test_loader\n"
   ]
  },
  {
   "cell_type": "code",
   "execution_count": 9,
   "metadata": {},
   "outputs": [
    {
     "name": "stdout",
     "output_type": "stream",
     "text": [
      "torch.Size([64, 8, 2])\n",
      "torch.Size([64, 4])\n"
     ]
    }
   ],
   "source": [
    "train_loader, val_loader, test_loader = create_dataloaders(train_data, val_data, test_data)\n",
    "\n",
    "# 한 배치 예시 보기\n",
    "for batch in train_loader:\n",
    "    print(batch['timeseries'].shape)  # (B, T, D)\n",
    "    print(batch['params'].shape)      # (B, param_dim)\n",
    "    break\n"
   ]
  },
  {
   "cell_type": "code",
   "execution_count": 10,
   "metadata": {},
   "outputs": [],
   "source": [
    "import torch\n",
    "import torch.nn as nn\n",
    "import torch.optim as optim\n",
    "\n",
    "# 1. Timeseries Encoder: 시계열에서 latent 조건 벡터 추출\n",
    "class TimeseriesEncoder(nn.Module):\n",
    "    def __init__(self, input_dim, hidden_dim, latent_dim, num_layers=1):\n",
    "        super(TimeseriesEncoder, self).__init__()\n",
    "        self.lstm = nn.LSTM(input_dim, hidden_dim, num_layers, batch_first=True)\n",
    "        self.fc = nn.Linear(hidden_dim, latent_dim)\n",
    "    \n",
    "    def forward(self, x):\n",
    "        # x: shape (B, T, input_dim)\n",
    "        out, (hn, _) = self.lstm(x)  # hn: (num_layers, B, hidden_dim)\n",
    "        # 마지막 layer의 hidden state 사용\n",
    "        z = self.fc(hn[-1])  # shape: (B, latent_dim)\n",
    "        return z\n",
    "\n",
    "# 2. Conditional RNN: 시계열 재구성 (조건 벡터를 각 시점의 입력에 붙임)\n",
    "class ConditionalRNN(nn.Module):\n",
    "    def __init__(self, input_dim, cond_dim, hidden_dim, output_dim, num_layers=1):\n",
    "        super(ConditionalRNN, self).__init__()\n",
    "        # 입력 차원은 기존 input_dim + cond_dim\n",
    "        self.lstm = nn.LSTM(input_dim + cond_dim, hidden_dim, num_layers, batch_first=True)\n",
    "        self.fc = nn.Linear(hidden_dim, output_dim)\n",
    "    \n",
    "    def forward(self, x, cond):\n",
    "        # x: shape (B, T, input_dim)\n",
    "        # cond: shape (B, cond_dim) → 이를 T번 반복해서 concat할 수 있음\n",
    "        B, T, _ = x.size()\n",
    "        cond_expanded = cond.unsqueeze(1).repeat(1, T, 1)  # shape: (B, T, cond_dim)\n",
    "        x_cond = torch.cat([x, cond_expanded], dim=2)  # shape: (B, T, input_dim+cond_dim)\n",
    "        out, _ = self.lstm(x_cond)  # out: (B, T, hidden_dim)\n",
    "        output = self.fc(out)       # output: (B, T, output_dim)\n",
    "        return output\n",
    "\n",
    "# 3. 전체 모델: 인코더와 Conditional RNN을 결합\n",
    "class RNNParameterEstimationModel(nn.Module):\n",
    "    def __init__(self, input_dim, encoder_hidden_dim, latent_dim, rnn_hidden_dim, output_dim, num_layers=1):\n",
    "        super(RNNParameterEstimationModel, self).__init__()\n",
    "        self.encoder = TimeseriesEncoder(input_dim, encoder_hidden_dim, latent_dim, num_layers)\n",
    "        self.decoder = ConditionalRNN(input_dim, latent_dim, rnn_hidden_dim, output_dim, num_layers)\n",
    "    \n",
    "    def forward(self, x):\n",
    "        # x: (B, T, input_dim) -> 관측된 시계열 (noisy)\n",
    "        cond = self.encoder(x)           # 추출된 조건 벡터, shape: (B, latent_dim)\n",
    "        output = self.decoder(x, cond)   # 재구성된 시계열, shape: (B, T, output_dim)\n",
    "        return output, cond\n"
   ]
  },
  {
   "cell_type": "code",
   "execution_count": 11,
   "metadata": {},
   "outputs": [],
   "source": [
    "\n",
    "# 4. 손실 함수 정의 (Reconstruction Loss + Prior Loss)\n",
    "def reconstruction_loss(pred, target):\n",
    "    # pred, target: (B, T, output_dim)\n",
    "    return torch.mean((pred - target) ** 2)\n",
    "\n",
    "def prior_loss(latent, mu=0.0, sigma=1.0):\n",
    "    # latent: (B, latent_dim)라고 가정하고, L2 정규화로 prior loss 구성\n",
    "    return torch.mean(((latent - mu)/sigma) ** 2)\n"
   ]
  },
  {
   "cell_type": "code",
   "execution_count": null,
   "metadata": {},
   "outputs": [],
   "source": [
    "# 5. 학습 루프 (예시)\n",
    "import torch\n",
    "import torch.optim as optim\n",
    "from tqdm import tqdm\n",
    "\n",
    "def train_rnn_model(\n",
    "    model, \n",
    "    train_loader, \n",
    "    val_loader=None, \n",
    "    num_epochs=1000, \n",
    "    lr=1e-3, \n",
    "    lambda_prior=0.1, \n",
    "    device='cuda', \n",
    "    early_stopping_patience=100\n",
    "):\n",
    "    model.to(device)\n",
    "    optimizer = optim.Adam(model.parameters(), lr=lr)\n",
    "    # 학습률 스케줄러 (validation loss가 개선되지 않으면 학습률 감소)\n",
    "    scheduler = optim.lr_scheduler.ReduceLROnPlateau(optimizer, mode='min', factor=0.5, patience=10, verbose=True)\n",
    "    \n",
    "    best_val_loss = float('inf')\n",
    "    no_improve_epochs = 0\n",
    "    \n",
    "    train_losses = []\n",
    "    val_losses = []\n",
    "    \n",
    "    for epoch in tqdm(range(num_epochs), desc='Epochs'):\n",
    "        model.train()\n",
    "        epoch_loss = 0.0\n",
    "        \n",
    "        # tqdm으로 배치 진행 상황 모니터링\n",
    "        for batch in train_loader:\n",
    "            x = batch['timeseries'].to(device)  # (B, T, input_dim)\n",
    "            true_params = batch.get('params')\n",
    "            if true_params is not None:\n",
    "                true_params = true_params.to(device)\n",
    "            \n",
    "            optimizer.zero_grad()\n",
    "            pred, cond = model(x)  # pred: (B, T, output_dim), cond: (B, latent_dim)\n",
    "            \n",
    "            rec_loss = reconstruction_loss(pred, x)  # reconstruction loss (MSE)\n",
    "            loss = rec_loss\n",
    "            \n",
    "            # 지도 정보가 있는 경우, 조건 벡터와 실제 파라미터 사이의 L2 loss 추가\n",
    "            if true_params is not None:\n",
    "                loss += lambda_prior * reconstruction_loss(cond, true_params)\n",
    "            \n",
    "            loss.backward()\n",
    "            optimizer.step()\n",
    "            \n",
    "            epoch_loss += loss.item() * x.size(0)\n",
    "        \n",
    "        avg_train_loss = epoch_loss / len(train_loader.dataset)\n",
    "        train_losses.append(avg_train_loss)\n",
    "        \n",
    "        # validation 평가 (val_loader가 제공된 경우)\n",
    "        if val_loader is not None:\n",
    "            model.eval()\n",
    "            val_loss = 0.0\n",
    "            with torch.no_grad():\n",
    "                for batch in val_loader:\n",
    "                    x_val = batch['timeseries'].to(device)\n",
    "                    true_params_val = batch.get('params')\n",
    "                    if true_params_val is not None:\n",
    "                        true_params_val = true_params_val.to(device)\n",
    "                    \n",
    "                    pred_val, cond_val = model(x_val)\n",
    "                    loss_val = reconstruction_loss(pred_val, x_val)\n",
    "                    if true_params_val is not None:\n",
    "                        loss_val += lambda_prior * reconstruction_loss(cond_val, true_params_val)\n",
    "                    \n",
    "                    val_loss += loss_val.item() * x_val.size(0)\n",
    "            avg_val_loss = val_loss / len(val_loader.dataset)\n",
    "            val_losses.append(avg_val_loss)\n",
    "            #print(f\"Epoch {epoch+1}: Train Loss = {avg_train_loss:.4f}, Val Loss = {avg_val_loss:.4f}\")\n",
    "            \n",
    "            # 학습률 스케줄러 업데이트\n",
    "            scheduler.step(avg_val_loss)\n",
    "            \n",
    "            # Early stopping 확인\n",
    "            if avg_val_loss < best_val_loss:\n",
    "                best_val_loss = avg_val_loss\n",
    "                no_improve_epochs = 0\n",
    "                # 만약 필요하다면 best model checkpoint 저장\n",
    "                best_model_state = model.state_dict()\n",
    "            else:\n",
    "                no_improve_epochs += 1\n",
    "            \n",
    "            if no_improve_epochs >= early_stopping_patience:\n",
    "                print(\"Early stopping triggered.\")\n",
    "                break\n",
    "        else:\n",
    "            print(f\"Epoch {epoch+1}: Train Loss = {avg_train_loss:.4f}\")\n",
    "    \n",
    "    # 필요하다면 best model state 로 복원\n",
    "    if val_loader is not None and 'best_model_state' in locals():\n",
    "        model.load_state_dict(best_model_state)\n",
    "    \n",
    "    # 학습 곡선 시각화 (원하는 경우)\n",
    "    try:\n",
    "        import matplotlib.pyplot as plt\n",
    "        plt.figure(figsize=(8, 5))\n",
    "        plt.plot(train_losses, label='Train Loss')\n",
    "        if val_loader is not None:\n",
    "            plt.plot(val_losses, label='Validation Loss')\n",
    "        plt.xlabel('Epoch')\n",
    "        plt.ylabel('Loss')\n",
    "        plt.title('Learning Curves')\n",
    "        plt.legend()\n",
    "        plt.show()\n",
    "    except Exception as e:\n",
    "        print(\"Plotting failed:\", e)\n",
    "    \n",
    "    return model, train_losses, val_losses\n"
   ]
  },
  {
   "cell_type": "code",
   "execution_count": 19,
   "metadata": {},
   "outputs": [
    {
     "name": "stderr",
     "output_type": "stream",
     "text": [
      "Epochs:   0%|          | 0/10000 [00:00<?, ?it/s]"
     ]
    },
    {
     "name": "stderr",
     "output_type": "stream",
     "text": [
      "Epochs:   2%|▏         | 170/10000 [01:24<1:19:51,  2.05it/s]"
     ]
    },
    {
     "name": "stdout",
     "output_type": "stream",
     "text": [
      "Epoch 00170: reducing learning rate of group 0 to 5.0000e-04.\n"
     ]
    },
    {
     "name": "stderr",
     "output_type": "stream",
     "text": [
      "Epochs:   2%|▏         | 204/10000 [01:41<1:21:06,  2.01it/s]"
     ]
    },
    {
     "name": "stdout",
     "output_type": "stream",
     "text": [
      "Epoch 00204: reducing learning rate of group 0 to 2.5000e-04.\n"
     ]
    },
    {
     "name": "stderr",
     "output_type": "stream",
     "text": [
      "Epochs:   2%|▏         | 225/10000 [01:50<59:23,  2.74it/s]  "
     ]
    },
    {
     "name": "stdout",
     "output_type": "stream",
     "text": [
      "Epoch 00225: reducing learning rate of group 0 to 1.2500e-04.\n"
     ]
    },
    {
     "name": "stderr",
     "output_type": "stream",
     "text": [
      "Epochs:   3%|▎         | 266/10000 [02:11<1:23:28,  1.94it/s]"
     ]
    },
    {
     "name": "stdout",
     "output_type": "stream",
     "text": [
      "Epoch 00266: reducing learning rate of group 0 to 6.2500e-05.\n"
     ]
    },
    {
     "name": "stderr",
     "output_type": "stream",
     "text": [
      "Epochs:   3%|▎         | 318/10000 [02:38<1:24:01,  1.92it/s]"
     ]
    },
    {
     "name": "stdout",
     "output_type": "stream",
     "text": [
      "Epoch 00318: reducing learning rate of group 0 to 3.1250e-05.\n"
     ]
    },
    {
     "name": "stderr",
     "output_type": "stream",
     "text": [
      "Epochs:   3%|▎         | 330/10000 [02:44<1:22:15,  1.96it/s]"
     ]
    },
    {
     "name": "stdout",
     "output_type": "stream",
     "text": [
      "Epoch 00330: reducing learning rate of group 0 to 1.5625e-05.\n"
     ]
    },
    {
     "name": "stderr",
     "output_type": "stream",
     "text": [
      "Epochs:   4%|▎         | 357/10000 [02:58<1:23:45,  1.92it/s]"
     ]
    },
    {
     "name": "stdout",
     "output_type": "stream",
     "text": [
      "Epoch 00357: reducing learning rate of group 0 to 7.8125e-06.\n"
     ]
    },
    {
     "name": "stderr",
     "output_type": "stream",
     "text": [
      "Epochs:   4%|▍         | 391/10000 [03:16<1:28:45,  1.80it/s]"
     ]
    },
    {
     "name": "stdout",
     "output_type": "stream",
     "text": [
      "Epoch 00391: reducing learning rate of group 0 to 3.9063e-06.\n"
     ]
    },
    {
     "name": "stderr",
     "output_type": "stream",
     "text": [
      "Epochs:   4%|▍         | 403/10000 [03:23<1:27:52,  1.82it/s]"
     ]
    },
    {
     "name": "stdout",
     "output_type": "stream",
     "text": [
      "Epoch 00403: reducing learning rate of group 0 to 1.9531e-06.\n"
     ]
    },
    {
     "name": "stderr",
     "output_type": "stream",
     "text": [
      "Epochs:   4%|▍         | 416/10000 [03:28<1:19:13,  2.02it/s]"
     ]
    },
    {
     "name": "stdout",
     "output_type": "stream",
     "text": [
      "Epoch 00416: reducing learning rate of group 0 to 9.7656e-07.\n"
     ]
    },
    {
     "name": "stderr",
     "output_type": "stream",
     "text": [
      "Epochs:   4%|▍         | 427/10000 [03:34<1:23:25,  1.91it/s]"
     ]
    },
    {
     "name": "stdout",
     "output_type": "stream",
     "text": [
      "Epoch 00427: reducing learning rate of group 0 to 4.8828e-07.\n"
     ]
    },
    {
     "name": "stderr",
     "output_type": "stream",
     "text": [
      "Epochs:   4%|▍         | 441/10000 [03:42<1:28:19,  1.80it/s]"
     ]
    },
    {
     "name": "stdout",
     "output_type": "stream",
     "text": [
      "Epoch 00441: reducing learning rate of group 0 to 2.4414e-07.\n"
     ]
    },
    {
     "name": "stderr",
     "output_type": "stream",
     "text": [
      "Epochs:   5%|▍         | 460/10000 [03:52<1:21:05,  1.96it/s]"
     ]
    },
    {
     "name": "stdout",
     "output_type": "stream",
     "text": [
      "Epoch 00460: reducing learning rate of group 0 to 1.2207e-07.\n"
     ]
    },
    {
     "name": "stderr",
     "output_type": "stream",
     "text": [
      "Epochs:   5%|▍         | 471/10000 [03:57<1:05:31,  2.42it/s]"
     ]
    },
    {
     "name": "stdout",
     "output_type": "stream",
     "text": [
      "Epoch 00471: reducing learning rate of group 0 to 6.1035e-08.\n"
     ]
    },
    {
     "name": "stderr",
     "output_type": "stream",
     "text": [
      "Epochs:   5%|▍         | 482/10000 [04:02<1:24:33,  1.88it/s]"
     ]
    },
    {
     "name": "stdout",
     "output_type": "stream",
     "text": [
      "Epoch 00482: reducing learning rate of group 0 to 3.0518e-08.\n"
     ]
    },
    {
     "name": "stderr",
     "output_type": "stream",
     "text": [
      "Epochs:   5%|▌         | 501/10000 [04:12<1:14:17,  2.13it/s]"
     ]
    },
    {
     "name": "stdout",
     "output_type": "stream",
     "text": [
      "Epoch 00501: reducing learning rate of group 0 to 1.5259e-08.\n"
     ]
    },
    {
     "name": "stderr",
     "output_type": "stream",
     "text": [
      "Epochs: 100%|██████████| 10000/10000 [1:20:24<00:00,  2.07it/s]\n"
     ]
    },
    {
     "data": {
      "image/png": "[encoded data removed]",
      "text/plain": [
       "<Figure size 800x500 with 1 Axes>"
      ]
     },
     "metadata": {},
     "output_type": "display_data"
    }
   ],
   "source": [
    "\n",
    "# 하이퍼파라미터 설정\n",
    "input_dim = 2         # 상태 변수 차원 (예: Lotka-Volterra의 prey, predator)\n",
    "encoder_hidden_dim = 32\n",
    "latent_dim = 4        # 파라미터 차원과 동일하게 설정\n",
    "rnn_hidden_dim = 64\n",
    "output_dim = 2        # 복원된 시계열의 차원\n",
    "\n",
    "# 모델 초기화\n",
    "model = RNNParameterEstimationModel(\n",
    "    input_dim=input_dim,\n",
    "    encoder_hidden_dim=encoder_hidden_dim,\n",
    "    latent_dim=latent_dim,\n",
    "    rnn_hidden_dim=rnn_hidden_dim,\n",
    "    output_dim=output_dim,\n",
    "    num_layers=2\n",
    ")\n",
    "\n",
    "# 학습 실행\n",
    "trained_model, train_losses, val_losses = train_rnn_model(\n",
    "    model,\n",
    "    train_loader,\n",
    "    val_loader,\n",
    "    num_epochs=10000,\n",
    "    lr=1e-3,\n",
    "    lambda_prior=0.0,\n",
    "    early_stopping_patience=10000,\n",
    "    device='cuda'  # GPU 사용 시 'cuda'로 변경\n",
    ")"
   ]
  },
  {
   "cell_type": "code",
   "execution_count": 20,
   "metadata": {},
   "outputs": [
    {
     "name": "stdout",
     "output_type": "stream",
     "text": [
      "Test Reconstruction Loss: 0.0002\n",
      "Test Parameter Estimation Loss: 72.2321\n"
     ]
    },
    {
     "data": {
      "text/plain": [
       "(0.0001869957958503316, 72.2320687866211)"
      ]
     },
     "execution_count": 20,
     "metadata": {},
     "output_type": "execute_result"
    }
   ],
   "source": [
    "import torch\n",
    "import matplotlib.pyplot as plt\n",
    "\n",
    "def evaluate_model(model, dataloader, device='cuda'):\n",
    "    model.eval()\n",
    "    total_rec_loss = 0.0\n",
    "    total_param_loss = 0.0\n",
    "    count = 0  # 전체 배치의 샘플 수 누적\n",
    "\n",
    "    with torch.no_grad():\n",
    "        for batch in dataloader:\n",
    "            # 배치 데이터 로딩\n",
    "            x_obs = batch['timeseries'].to(device)      # (B, T_obs, state_dim)\n",
    "            true_params = batch['params'].to(device)      # (B, param_dim)\n",
    "\n",
    "            # 모델 예측: reconstruction 및 parameter proxy 추출\n",
    "            pred_obs, cond = model(x_obs)                # pred_obs: (B, T_obs, output_dim), cond: (B, latent_dim)\n",
    "            \n",
    "            # 1. Reconstruction Loss (noisy 관측 시계열과 재구성 시계열 간 MSE)\n",
    "            rec_loss = torch.mean((pred_obs - x_obs) ** 2)\n",
    "            total_rec_loss += rec_loss.item() * x_obs.size(0)\n",
    "            \n",
    "            # 2. Parameter Estimation Loss (추정된 조건 벡터와 ground truth 파라미터 간 MSE)\n",
    "            param_loss = torch.mean((cond - true_params) ** 2)\n",
    "            total_param_loss += param_loss.item() * x_obs.size(0)\n",
    "            \n",
    "            # 각 배치의 샘플 수 누적\n",
    "            count += x_obs.size(0)\n",
    "    \n",
    "    avg_rec_loss = total_rec_loss / count\n",
    "    avg_param_loss = total_param_loss / count\n",
    "    \n",
    "    print(f\"Test Reconstruction Loss: {avg_rec_loss:.4f}\")\n",
    "    print(f\"Test Parameter Estimation Loss: {avg_param_loss:.4f}\")\n",
    "    \n",
    "    return avg_rec_loss, avg_param_loss\n",
    "\n",
    "# 평가 코드 호출 (예시)\n",
    "evaluate_model(trained_model, test_loader, device='cuda')\n"
   ]
  },
  {
   "cell_type": "code",
   "execution_count": 21,
   "metadata": {},
   "outputs": [],
   "source": [
    "import torch\n",
    "import numpy as np\n",
    "\n",
    "def extract_true_and_estimated_params(model, dataloader, device='cuda'):\n",
    "    \"\"\"\n",
    "    모델을 이용하여 각 배치의 추정 파라미터 (estimated parameters)를 계산하고,\n",
    "    dataloader에 포함된 ground truth 파라미터와 함께 numpy 배열로 반환합니다.\n",
    "\n",
    "    Args:\n",
    "        model: 학습된 모델 (RNNParameterEstimationModel)\n",
    "        dataloader: 테스트 데이터셋 DataLoader, 각 batch는 'timeseries'와 'params' key를 포함.\n",
    "        device: 사용 장치 ('cuda' 또는 'cpu')\n",
    "\n",
    "    Returns:\n",
    "        Tuple (true_params, estimated_params), 둘 다 numpy array 형태, shape: (N, param_dim)\n",
    "    \"\"\"\n",
    "    model.eval()\n",
    "    all_true_params = []\n",
    "    all_estimated_params = []\n",
    "    \n",
    "    with torch.no_grad():\n",
    "        for batch in dataloader:\n",
    "            x = batch['timeseries'].to(device)         # (B, T, input_dim)\n",
    "            true_params = batch['params'].to(device)     # (B, param_dim)\n",
    "            # 모델의 인코더를 통해 추정한 조건 벡터를 얻음.\n",
    "            _, cond = model(x)                          # cond: (B, latent_dim)\n",
    "            \n",
    "            all_true_params.append(true_params.cpu().numpy())\n",
    "            all_estimated_params.append(cond.cpu().numpy())\n",
    "    \n",
    "    true_params_all = np.concatenate(all_true_params, axis=0)\n",
    "    estimated_params_all = np.concatenate(all_estimated_params, axis=0)\n",
    "    return true_params_all, estimated_params_all\n",
    "\n",
    "import matplotlib.pyplot as plt\n",
    "\n",
    "def plot_parameter_scatter(true_params, estimated_params, title='True vs. Estimated Parameters'):\n",
    "    \"\"\"\n",
    "    각 파라미터 차원별로, true parameter와 estimated parameter를 y=x 기준으로 scatter plot으로 시각화합니다.\n",
    "    \n",
    "    Args:\n",
    "        true_params: numpy array, shape (N, param_dim)\n",
    "        estimated_params: numpy array, shape (N, param_dim)\n",
    "        title: 전체 그래프 제목\n",
    "    \"\"\"\n",
    "    param_dim = true_params.shape[1]\n",
    "    fig, axes = plt.subplots(1, param_dim, figsize=(5 * param_dim, 4))\n",
    "    \n",
    "    if param_dim == 1:\n",
    "        axes = [axes]\n",
    "    \n",
    "    for d in range(param_dim):\n",
    "        ax = axes[d]\n",
    "        ax.scatter(true_params[:, d], estimated_params[:, d], alpha=0.6, edgecolor='k')\n",
    "        # y = x 기준 선: x 범위는 두 배열의 min과 max를 사용\n",
    "        min_val = min(np.min(true_params[:, d]), np.min(estimated_params[:, d]))\n",
    "        max_val = max(np.max(true_params[:, d]), np.max(estimated_params[:, d]))\n",
    "        ax.plot([min_val, max_val], [min_val, max_val], 'r--', lw=2)\n",
    "        ax.set_xlabel(f\"True (Param {d+1})\")\n",
    "        ax.set_ylabel(f\"Estimated (Param {d+1})\")\n",
    "        ax.set_title(f\"Parameter {d+1}\")\n",
    "    \n",
    "    fig.suptitle(title)\n",
    "    plt.tight_layout(rect=[0, 0.03, 1, 0.95])\n",
    "    plt.show()\n"
   ]
  },
  {
   "cell_type": "code",
   "execution_count": 22,
   "metadata": {},
   "outputs": [
    {
     "data": {
      "image/png": "[encoded data removed]",
      "text/plain": [
       "<Figure size 2000x400 with 4 Axes>"
      ]
     },
     "metadata": {},
     "output_type": "display_data"
    }
   ],
   "source": [
    "# 예시: 학습된 모델과 test_loader가 준비되었다고 가정\n",
    "true_params, estimated_params = extract_true_and_estimated_params(trained_model, test_loader, device='cuda')\n",
    "plot_parameter_scatter(true_params, estimated_params, title='True vs Estimated Parameters')\n"
   ]
  },
  {
   "cell_type": "code",
   "execution_count": 63,
   "metadata": {},
   "outputs": [],
   "source": [
    "sample_row = test_df.iloc[0]\n",
    "\n",
    "\n",
    "# 추출: 관측 시간 및 noisy 관측 데이터\n",
    "t_obs = np.array(sample_row['times'])  # 관측 시점 (T_obs,)\n",
    "state_dim = len(sample_row['x0'])\n",
    "# 각 상태 변수의 noisy 관측 시계열을 불러와 (T_obs, state_dim) 배열로 재구성\n",
    "obs = np.stack([sample_row[f'state_{d}'] for d in range(state_dim)], axis=1)\n",
    "\n",
    "# ground truth trajectory: (T_full, state_dim)\n",
    "true_traj = np.array(sample_row['true_trajectory'])\n",
    "\n",
    "# 초기 조건 및 ground truth 파라미터\n",
    "x0 = np.array(sample_row['x0'])\n",
    "true_params = np.array(sample_row['params'])\n"
   ]
  },
  {
   "cell_type": "code",
   "execution_count": 66,
   "metadata": {},
   "outputs": [
    {
     "data": {
      "text/plain": [
       "array([[11.84216867,  5.27125539],\n",
       "       [33.5496912 ,  3.61223762],\n",
       "       [31.70624593, 29.65453796],\n",
       "       [ 8.68430902, 11.20786701],\n",
       "       [18.96261358,  3.29380366],\n",
       "       [48.77107519,  9.02669206],\n",
       "       [12.12749893, 24.32521081],\n",
       "       [11.33004627,  5.53668393]])"
      ]
     },
     "execution_count": 66,
     "metadata": {},
     "output_type": "execute_result"
    }
   ],
   "source": [
    "obs"
   ]
  },
  {
   "cell_type": "code",
   "execution_count": 72,
   "metadata": {},
   "outputs": [
    {
     "data": {
      "text/plain": [
       "array([1.02516235, 0.08336773, 0.07573604, 1.78637666])"
      ]
     },
     "execution_count": 72,
     "metadata": {},
     "output_type": "execute_result"
    }
   ],
   "source": [
    "true_params"
   ]
  },
  {
   "cell_type": "code",
   "execution_count": 69,
   "metadata": {},
   "outputs": [],
   "source": [
    "x_obs_tensor = torch.tensor(obs, dtype=torch.float32).unsqueeze(0).to('cuda')\n",
    "trained_model.eval()\n",
    "with torch.no_grad():\n",
    "    pred_obs_tensor, cond = trained_model(x_obs_tensor)\n",
    "pred_obs = pred_obs_tensor.squeeze(0).cpu().numpy()  # (T_obs, state_dim)\n",
    "est_params = cond.squeeze(0).cpu().numpy()           # (latent_dim,)\n"
   ]
  },
  {
   "cell_type": "code",
   "execution_count": 70,
   "metadata": {},
   "outputs": [
    {
     "data": {
      "text/plain": [
       "array([[11.836266 ,  5.2664356],\n",
       "       [33.567646 ,  3.617302 ],\n",
       "       [31.708014 , 29.670053 ],\n",
       "       [ 8.685828 , 11.203618 ],\n",
       "       [18.953077 ,  3.2982843],\n",
       "       [48.772438 ,  9.033859 ],\n",
       "       [12.118741 , 24.321035 ],\n",
       "       [11.317593 ,  5.5362544]], dtype=float32)"
      ]
     },
     "execution_count": 70,
     "metadata": {},
     "output_type": "execute_result"
    }
   ],
   "source": [
    "pred_obs"
   ]
  },
  {
   "cell_type": "code",
   "execution_count": 71,
   "metadata": {},
   "outputs": [
    {
     "data": {
      "text/plain": [
       "array([1.040312  , 0.12786174, 0.10830086, 1.7294692 ], dtype=float32)"
      ]
     },
     "execution_count": 71,
     "metadata": {},
     "output_type": "execute_result"
    }
   ],
   "source": [
    "est_params"
   ]
  },
  {
   "cell_type": "code",
   "execution_count": 74,
   "metadata": {},
   "outputs": [],
   "source": [
    "from scipy.integrate import solve_ivp\n",
    "\n",
    "\n",
    "def lotka_volterra_eqn(t, x, params):\n",
    "    \"\"\"\n",
    "    Lotka-Volterra 방정식:\n",
    "        dx/dt = alpha*x - beta*x*y\n",
    "        dy/dt = delta*x*y - gamma*y\n",
    "    \"\"\"\n",
    "    alpha, beta, delta, gamma = params\n",
    "    dxdt = alpha * x[0] - beta * x[0] * x[1]\n",
    "    dydt = delta * x[0] * x[1] - gamma * x[1]\n",
    "    return [dxdt, dydt]\n",
    "\n",
    "# 주어진 lotka_volterra_eqn 함수를 그대로 사용한다고 가정\n",
    "def reconstruct_trajectory(x0, est_params, t_obs):\n",
    "    \"\"\"\n",
    "    초기 조건 x0와 추정된 파라미터 est_params, 그리고 관측 시간 t_obs를 이용해 Lotka-Volterra ODE를 풀어 trajectory 재구성.\n",
    "    \n",
    "    Args:\n",
    "        x0 (numpy.ndarray): 초기 조건, shape (state_dim,)\n",
    "        est_params (numpy.ndarray): 추정된 파라미터, shape (4,) - [alpha, beta, delta, gamma]\n",
    "        t_obs (numpy.ndarray): 관측 시간 grid, shape (T_obs,)\n",
    "    \n",
    "    Returns:\n",
    "        sol_est: solve_ivp 객체 (trajectory 포함)\n",
    "    \"\"\"\n",
    "    sol_est = solve_ivp(\n",
    "        fun=lambda t, x: lotka_volterra_eqn(t, x, est_params),\n",
    "        t_span=(t_obs[0], t_obs[-1]),\n",
    "        t_eval=t_obs,\n",
    "        y0=x0\n",
    "    )\n",
    "    return sol_est"
   ]
  },
  {
   "cell_type": "code",
   "execution_count": 99,
   "metadata": {},
   "outputs": [
    {
     "data": {
      "image/png": "[encoded data removed]",
      "text/plain": [
       "<Figure size 1400x600 with 2 Axes>"
      ]
     },
     "metadata": {},
     "output_type": "display_data"
    }
   ],
   "source": [
    "import torch\n",
    "import numpy as np\n",
    "import matplotlib.pyplot as plt\n",
    "from scipy.integrate import solve_ivp\n",
    "\n",
    "def lotka_volterra_eqn(t, x, params):\n",
    "    \"\"\"Lotka-Volterra 방정식 함수 (예시)\"\"\"\n",
    "    alpha, beta, delta, gamma = params\n",
    "    dxdt = alpha * x[0] - beta * x[0] * x[1]\n",
    "    dydt = delta * x[0] * x[1] - gamma * x[1]\n",
    "    return [dxdt, dydt]\n",
    "\n",
    "def reconstruct_trajectory(x0, est_params, t_full):\n",
    "    \"\"\"\n",
    "    주어진 초기 조건(x0)와 추정된 파라미터(est_params)를 사용하여, \n",
    "    full time grid t_full에 대해 ODE를 풀어 trajectory를 재구성합니다.\n",
    "    여기서는 lotka_volterra_eqn을 사용합니다.\n",
    "    \"\"\"\n",
    "    sol = solve_ivp(\n",
    "        fun=lambda t, x: lotka_volterra_eqn(t, x, est_params),\n",
    "        t_span=(t_full[0], t_full[-1]),\n",
    "        t_eval=t_full,\n",
    "        vectorized=False,\n",
    "        y0=x0\n",
    "    )\n",
    "    return sol\n",
    "\n",
    "def plot_sample_trajectory(sample_row, model, device='cuda'):\n",
    "    \"\"\"\n",
    "    하나의 샘플에 대해 평가 결과를 시각화합니다.\n",
    "    \n",
    "    - sample_row: DataFrame의 한 row (dict)로, 다음 키들을 포함:\n",
    "         'times': 관측 시간 grid (리스트, 예: t_obs)\n",
    "         'state_0', 'state_1', ...: 각 state의 noisy 관측 시계열 (리스트)\n",
    "         'true_trajectory': full ground truth trajectory (리스트 of lists, shape: (T_full, state_dim))\n",
    "         'x0': 초기 조건 (리스트)\n",
    "         'params': ground truth 파라미터 (리스트)\n",
    "    - model: 학습된 모델\n",
    "    - device: 'cuda' 혹은 'cpu'\n",
    "    \"\"\"\n",
    "    # 1. 데이터 추출 및 전처리\n",
    "    t_obs = np.array(sample_row['times'])  # 관측 시점 (예: T_obs 길이)\n",
    "    state_dim = len(sample_row['x0'])\n",
    "    obs = np.stack([sample_row[f'state_{d}'] for d in range(state_dim)], axis=1)  # (T_obs, state_dim)\n",
    "    true_traj = np.array(sample_row['true_trajectory'])  # (T_full, state_dim)\n",
    "    x0 = np.array(sample_row['x0'])\n",
    "    true_params = np.array(sample_row['params'])\n",
    "    \n",
    "    # parameter를 소수 넷째자리로 반올림한 문자열 생성\n",
    "    true_params_str = \", \".join([f\"{p:.4f}\" for p in true_params])\n",
    "    \n",
    "    # full time grid 재구성 (true trajectory의 길이에 맞게)\n",
    "    T_full = true_traj.shape[0]\n",
    "    # 여기서는 t_obs[0]과 t_obs[-1]를 기준으로 full time grid를 구성\n",
    "    t_full = np.linspace(t_obs[0], t_obs[-1], T_full)\n",
    "    \n",
    "    # 2. 모델 예측 (입력: (B, T_obs, state_dim))\n",
    "    x_obs_tensor = torch.tensor(obs, dtype=torch.float32).unsqueeze(0).to(device)\n",
    "    model.eval()\n",
    "    with torch.no_grad():\n",
    "        pred_obs_tensor, cond = model(x_obs_tensor)\n",
    "    pred_obs = pred_obs_tensor.squeeze(0).cpu().numpy()  # (T_obs, state_dim)\n",
    "    est_params = cond.squeeze(0).cpu().numpy()           # (latent_dim,)\n",
    "    # 추정된 파라미터도 반올림하여 문자열로 변환 (latent_dim과 실제 parameter dimension이 다를 수 있음에 주의)\n",
    "    est_params_str = \", \".join([f\"{p:.4f}\" for p in est_params])\n",
    "    \n",
    "    # 3. ODE 재구성을 통해 full trajectory 재생성\n",
    "    sol_est = reconstruct_trajectory(x0, est_params, t_full)\n",
    "    recon_traj = sol_est.y.T  # (T_full, state_dim)\n",
    "    \n",
    "    # 4. 플롯 생성: 1행 2열 subplot\n",
    "    fig, axs = plt.subplots(1, 2, figsize=(14, 6))\n",
    "    \n",
    "    # (A) Time-Series Comparison: 왼쪽 subplot\n",
    "    for d in range(state_dim):\n",
    "        # ground truth trajectory (full time grid, solid line)\n",
    "        axs[0].plot(t_full, true_traj[:, d], label=f\"True Traj dim {d}\", color=f\"C{d}\", linewidth=2, alpha=0.7)\n",
    "        # 관측치 (scatter, t_obs)\n",
    "        axs[0].scatter(t_obs, obs[:, d], label=f\"Obs dim {d}\", color=f\"C{d}\", marker='o', edgecolor='black', s=60)\n",
    "        # 모델 예측 (모델 reconstruction, t_obs, marker 'x')\n",
    "        axs[0].scatter(t_obs, pred_obs[:, d], label=f\"Model Pred dim {d}\", color=f\"C{d}\", marker='x', s=60)\n",
    "        # ODE 재구성 trajectory (dotted line)\n",
    "        axs[0].plot(t_full, recon_traj[:, d], label=f\"ODE Recon dim {d}\", color=f\"C{d}\", linestyle=':', linewidth=2)\n",
    "    \n",
    "    axs[0].set_xlabel(\"Time\")\n",
    "    axs[0].set_ylabel(\"State Value\")\n",
    "    axs[0].set_title(f\"Time-Series Comparison\\nTrue Params: [{true_params_str}]\\nEstimated Params: [{est_params_str}]\")\n",
    "    axs[0].legend(fontsize=8, loc=\"upper right\")\n",
    "    axs[0].grid(alpha=0.3)\n",
    "    \n",
    "    # (B) Phase Space Comparison: 오른쪽 subplot (state0 vs. state1)\n",
    "    if state_dim >= 2:\n",
    "        # 실제 phase space: ground truth trajectory (solid line)\n",
    "        axs[1].plot(true_traj[:, 0], true_traj[:, 1], label=\"True Traj\", color=\"C0\", linewidth=2, alpha=0.7)\n",
    "        # 관측치: scatter\n",
    "        axs[1].scatter(obs[:, 0], obs[:, 1], label=\"Obs\", color=\"C0\", marker='o', s=60, edgecolor='black')\n",
    "        # 모델 예측: phase space (model의 예측치를 t_obs 기준 scatter 혹은 선)\n",
    "        axs[1].scatter(pred_obs[:, 0], pred_obs[:, 1], label=\"Model Pred\", color=\"C1\", marker='x', s=60)\n",
    "        # ODE 재구성: phase space (dotted line)\n",
    "        axs[1].plot(recon_traj[:, 0], recon_traj[:, 1], label=\"ODE Recon\", color=\"C2\", linestyle=':', linewidth=2)\n",
    "        \n",
    "        axs[1].set_xlabel(\"State 0\")\n",
    "        axs[1].set_ylabel(\"State 1\")\n",
    "        axs[1].set_title(\"Phase Space (State 0 vs State 1)\")\n",
    "        axs[1].legend(fontsize=8, loc=\"upper right\")\n",
    "        axs[1].grid(alpha=0.3)\n",
    "    else:\n",
    "        axs[1].text(0.5, 0.5, \"Phase space unavailable (state_dim < 2)\",\n",
    "                    horizontalalignment='center', verticalalignment='center')\n",
    "    \n",
    "    plt.tight_layout()\n",
    "    plt.show()\n",
    "# 예시 사용:\n",
    "# test_df는 convert_npz_to_dataframe()으로 생성한 DataFrame\n",
    "sample_idx = 4  # 평가할 샘플 인덱스 선택\n",
    "sample_row = test_df.iloc[sample_idx].to_dict()\n",
    "plot_sample_trajectory(sample_row, trained_model, device='cuda')"
   ]
  },
  {
   "cell_type": "code",
   "execution_count": 101,
   "metadata": {},
   "outputs": [
    {
     "name": "stdout",
     "output_type": "stream",
     "text": [
      "평균 재구성 RMSE: 142.3336\n"
     ]
    }
   ],
   "source": [
    "import torch\n",
    "import numpy as np\n",
    "from scipy.integrate import solve_ivp\n",
    "import matplotlib.pyplot as plt\n",
    "\n",
    "def lotka_volterra_eqn(t, x, params):\n",
    "    \"\"\"\n",
    "    Lotka-Volterra 방정식.\n",
    "        dx/dt = alpha*x - beta*x*y\n",
    "        dy/dt = delta*x*y - gamma*y\n",
    "    \"\"\"\n",
    "    alpha, beta, delta, gamma = params\n",
    "    dxdt = alpha * x[0] - beta * x[0] * x[1]\n",
    "    dydt = delta * x[0] * x[1] - gamma * x[1]\n",
    "    return [dxdt, dydt]\n",
    "\n",
    "def reconstruct_trajectory(x0, est_params, t_full):\n",
    "    \"\"\"\n",
    "    주어진 초기 조건(x0)와 추정된 파라미터(est_params)를 이용해,\n",
    "    t_full 시간 그리드에 대해 ODE solver를 사용하여 trajectory를 재구성합니다.\n",
    "    여기서는 Lotka-Volterra 예시 함수(lotka_volterra_eqn)를 사용합니다.\n",
    "    \"\"\"\n",
    "    sol = solve_ivp(\n",
    "        fun=lambda t, x: lotka_volterra_eqn(t, x, est_params),\n",
    "        t_span=(t_full[0], t_full[-1]),\n",
    "        t_eval=t_full,\n",
    "        vectorized=False,\n",
    "        y0=x0\n",
    "    )\n",
    "    return sol\n",
    "\n",
    "def compute_rmse(true_traj, recon_traj):\n",
    "    \"\"\"\n",
    "    두 trajectory (각각 (T, D) shape)에 대해 RMSE를 계산합니다.\n",
    "    \"\"\"\n",
    "    return np.sqrt(np.mean((true_traj - recon_traj)**2))\n",
    "\n",
    "def evaluate_trajectory_error(data_df, model, device='cuda'):\n",
    "    \"\"\"\n",
    "    DataFrame 형식의 테스트 데이터를 이용해,\n",
    "    각 샘플에 대해 true trajectory와 모델로부터 재구성한 trajectory 간의 오차(RMSE)를 계산합니다.\n",
    "    \n",
    "    Args:\n",
    "        data_df (pd.DataFrame): 각 샘플에 대해, 'times', 'true_trajectory', 'x0', 'params', 그리고 noisy 시계열 정보가 포함된 DataFrame.\n",
    "        model: 학습된 모델. 모델은 noisy observations를 받아 (predicted observations, condition) 을 출력한다고 가정.\n",
    "        device (str): 'cuda' 혹은 'cpu'\n",
    "        \n",
    "    Returns:\n",
    "        avg_error: 전체 데이터셋의 평균 RMSE.\n",
    "        errors: 리스트, 각 샘플별 RMSE.\n",
    "    \"\"\"\n",
    "    model.eval()\n",
    "    errors = []\n",
    "    # 각 샘플에 대해\n",
    "    for idx, row in data_df.iterrows():\n",
    "        # 1. 데이터 추출\n",
    "        t_obs = np.array(row['times'])              # 관측 시점 (T_obs,)\n",
    "        state_dim = len(row['x0'])\n",
    "        true_traj = np.array(row['true_trajectory'])  # (T_full, state_dim)\n",
    "        x0 = np.array(row['x0'])\n",
    "        # ground truth parameter (그러나 여기서는 ODE 재구성에 사용하지 않고, 모델의 추정을 검증함)\n",
    "        # true_params = np.array(row['params'])\n",
    "        \n",
    "        # 2. full time grid 생성 : true trajectory의 길이(T_full)와 t_obs 시작 및 끝을 기준으로.\n",
    "        T_full = true_traj.shape[0]\n",
    "        t_full = np.linspace(t_obs[0], t_obs[-1], T_full)\n",
    "        \n",
    "        # 3. 모델 예측: noisy 관측을 이용하여 estimated parameter 추출.\n",
    "        # 관측 시계열은 (T_obs, state_dim) 배열; 모델 입력은 (B, T_obs, state_dim)\n",
    "        obs = np.stack([row[f'state_{d}'] for d in range(state_dim)], axis=1)\n",
    "        x_obs_tensor = torch.tensor(obs, dtype=torch.float32).unsqueeze(0).to(device)\n",
    "        with torch.no_grad():\n",
    "            _, cond = model(x_obs_tensor)\n",
    "        est_params = cond.squeeze(0).cpu().numpy()  # (latent_dim,)\n",
    "        \n",
    "        # 4. ODE 재구성을 통해 trajectory 생성\n",
    "        sol_est = reconstruct_trajectory(x0, est_params, t_full)\n",
    "        recon_traj = sol_est.y.T  # (T_full, state_dim)\n",
    "        \n",
    "        # 5. RMSE 계산 (true_traj와 recon_traj 비교)\n",
    "        error = compute_rmse(true_traj, recon_traj)\n",
    "        errors.append(error)\n",
    "    \n",
    "    avg_error = np.mean(errors)\n",
    "    print(f\"평균 재구성 RMSE: {avg_error:.4f}\")\n",
    "    return avg_error, errors\n",
    "\n",
    "# 예시 사용:\n",
    "# test_df: 테스트 데이터를 담은 DataFrame (convert_npz_to_dataframe()의 결과)\n",
    "avg_rmse, rmse_list = evaluate_trajectory_error(test_df, trained_model, device='cuda')\n"
   ]
  },
  {
   "cell_type": "code",
   "execution_count": null,
   "metadata": {},
   "outputs": [],
   "source": []
  }
 ],
 "metadata": {
  "kernelspec": {
   "display_name": "vision_task",
   "language": "python",
   "name": "python3"
  },
  "language_info": {
   "codemirror_mode": {
    "name": "ipython",
    "version": 3
   },
   "file_extension": ".py",
   "mimetype": "text/x-python",
   "name": "python",
   "nbconvert_exporter": "python",
   "pygments_lexer": "ipython3",
   "version": "undefined.undefined.undefined"
  }
 },
 "nbformat": 4,
 "nbformat_minor": 2
}
